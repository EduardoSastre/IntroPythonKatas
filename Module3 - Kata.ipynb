{
 "cells": [
  {
   "cell_type": "markdown",
   "metadata": {},
   "source": [
    "# Module 3 - Kata"
   ]
  },
  {
   "cell_type": "markdown",
   "metadata": {},
   "source": [
    "## Parte 1\n",
    "### Puntos clave:\n",
    "- Cualquier velocidad superior a 25 kilómetros por segundo (km/s) merece una advertencia.\n",
    "- Un asteroide se acerca, y viaja a una velocidad de 49 km/s."
   ]
  },
  {
   "cell_type": "code",
   "execution_count": 52,
   "metadata": {},
   "outputs": [
    {
     "name": "stdout",
     "output_type": "stream",
     "text": [
      " Danger! There is an asteroid approaching to earth! \n"
     ]
    }
   ],
   "source": [
    "AsteroidSpeed = 49\n",
    "\n",
    "if AsteroidSpeed >= 25:\n",
    "    print ( \" Danger! There is an asteroid approaching to earth! \" )\n",
    "else:\n",
    "    print ( \" All is great! There is no danger for now \" )"
   ]
  },
  {
   "cell_type": "markdown",
   "metadata": {},
   "source": [
    "## Parte 2\n",
    "### Puntos clave:\n",
    "- Si un asteroide tiene velocidad >= 20 km/s, a veces produce un rayo de luz que se puede ver desde la Tierra.\n",
    "- Hay uno que se dirige a la tierra ahora a una velocidad de 19 km/s!"
   ]
  },
  {
   "cell_type": "code",
   "execution_count": 53,
   "metadata": {},
   "outputs": [
    {
     "name": "stdout",
     "output_type": "stream",
     "text": [
      "The day is so cool. Nothing remarkable happens in heaven today\n"
     ]
    }
   ],
   "source": [
    "AsteroidSpeed = 19\n",
    "\n",
    "if AsteroidSpeed == 20:\n",
    "        print ( \"Look the sky. There is a lightning\" )\n",
    "\n",
    "elif AsteroidSpeed > 20:\n",
    "        print ( \"Look the sky. There is a lightning\" )\n",
    "        \n",
    "else:\n",
    "    print ( \"The day is so cool. Nothing remarkable happens in heaven today\" )\n"
   ]
  },
  {
   "cell_type": "markdown",
   "metadata": {},
   "source": [
    "## Parte 3\n",
    "\n",
    "### Puntos clave:\n",
    "- Si la dimension del asteroide es mayor a 25 m emite alerta, si es menor no lo hace.\n",
    "- Cualquier velocidad superior a 25 kilómetros por segundo (km/s) merece una advertencia.\n",
    "- Si la velocidad es >= 20 km/s, a veces produce un rayo de luz que se puede ver desde la Tierra."
   ]
  },
  {
   "cell_type": "code",
   "execution_count": 54,
   "metadata": {},
   "outputs": [
    {
     "name": "stdout",
     "output_type": "stream",
     "text": [
      "Asteroid Speed is : 7\n",
      "Asteroid Dimension is: 5\n",
      "The day is so cool. Nothing remarkable happens in heaven today\n"
     ]
    }
   ],
   "source": [
    "import random\n",
    "\n",
    "AsteroidSpeed     = random.randint (5, 50)   #Escoge un numero random entre 5 y 50\n",
    "AsteroidDimension = random.randint (5, 50)   #Escoge un numero random entre 5 y 50\n",
    "\n",
    "print ( \"Asteroid Speed is : \"     + str ( AsteroidSpeed )     )\n",
    "print ( \"Asteroid Dimension is: \"  + str ( AsteroidDimension ) )\n",
    "\n",
    "if AsteroidSpeed > 25 or AsteroidDimension > 25:\n",
    "    print ( \"Danger! There is an asteroid approaching to earth!\" )\n",
    "\n",
    "elif AsteroidSpeed >= 20:\n",
    "    print ( \"Look the sky. There is a lightning\" )\n",
    "    \n",
    "else:\n",
    "    print ( \"The day is so cool. Nothing remarkable happens in heaven today\" )"
   ]
  }
 ],
 "metadata": {
  "interpreter": {
   "hash": "f1ed976337562453ecda4761f991c87d4d0fe2900adb1fb019d7d0230e51b525"
  },
  "kernelspec": {
   "display_name": "Python 3.10.2 64-bit",
   "language": "python",
   "name": "python3"
  },
  "language_info": {
   "codemirror_mode": {
    "name": "ipython",
    "version": 3
   },
   "file_extension": ".py",
   "mimetype": "text/x-python",
   "name": "python",
   "nbconvert_exporter": "python",
   "pygments_lexer": "ipython3",
   "version": "3.10.2"
  },
  "orig_nbformat": 4
 },
 "nbformat": 4,
 "nbformat_minor": 2
}
