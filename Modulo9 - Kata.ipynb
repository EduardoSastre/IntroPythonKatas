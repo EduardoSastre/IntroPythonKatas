{
  "cells": [
    {
      "cell_type": "markdown",
      "metadata": {},
      "source": [
        "# Ejercicio: Uso de funciones en Python"
      ]
    },
    {
      "cell_type": "markdown",
      "metadata": {},
      "source": [
        "### Ejercicio 1: Trabajar con argumentos en funciones\n",
        "\n",
        "Los argumentos requeridos en las funciones se utilizan cuando las funciones necesitan que esos argumentos funcionen correctamente. En este ejercicio, construirás un informe de combustible que requiere información de varias ubicaciones de combustible en todo el cohete.\n",
        "\n"
      ]
    },
    {
      "cell_type": "markdown",
      "metadata": {},
      "source": [
        "> **TIP**\n",
        "> Dedica unos minutos para tratar de encontrar una solución. Luego desplázate hacia abajo hasta la parte inferior para ver si has logrado compilar el programa de acuerdo con las especificaciones\n",
        "\n",
        "Comienza por crear una función que necesite tres lecturas de combustible y devuelva un informe:"
      ]
    },
    {
      "cell_type": "code",
      "execution_count": 331,
      "metadata": {},
      "outputs": [],
      "source": [
        "# Función para leer 3 tanques de combustible y muestre el promedio\n",
        "def report ( top, mid, bot ):\n",
        "    average = ( top + mid + bot ) / 3\n",
        "    return f'''Top tank: { top } L\n",
        "    Mid tank: { mid }\n",
        "    Bot tank: { bot } L\n",
        "    Average fuel: { average } L'''\n",
        "\n"
      ]
    },
    {
      "cell_type": "markdown",
      "metadata": {},
      "source": [
        "Ahora que hemos definido la función de informes, vamos a comprobarlo. Para esta misión, los tanques no están llenos:"
      ]
    },
    {
      "cell_type": "code",
      "execution_count": 332,
      "metadata": {},
      "outputs": [
        {
          "data": {
            "text/plain": [
              "'Top tank: 10 L\\n    Mid tank: 20\\n    Bot tank: 30 L\\n    Average fuel: 20.0 L'"
            ]
          },
          "execution_count": 332,
          "metadata": {},
          "output_type": "execute_result"
        }
      ],
      "source": [
        "\n",
        "# Llamamos a la función que genera el reporte print(funcion(tanque1, tanque2, tanque3))\n",
        "report ( 10, 20, 30 )"
      ]
    },
    {
      "cell_type": "markdown",
      "metadata": {},
      "source": [
        "En lugar de simplemente crear el informe, la función también está calculando el promedio. Mejora la legibilidad extrayendo el cálculo promedio de la función en una nueva función para que el promedio se pueda hacer de forma independiente:"
      ]
    },
    {
      "cell_type": "code",
      "execution_count": 333,
      "metadata": {},
      "outputs": [],
      "source": [
        "# Función promedio \n",
        "def average ( top, mid, bot ):\n",
        "    average = ( top + mid + bot ) / 3\n",
        "    return average\n"
      ]
    },
    {
      "cell_type": "markdown",
      "metadata": {},
      "source": [
        "Ahora actualiza la función de informes para llamando a la nueva función del promedio:\n"
      ]
    },
    {
      "cell_type": "code",
      "execution_count": 334,
      "metadata": {},
      "outputs": [
        {
          "data": {
            "text/plain": [
              "'Top tank: 10 L\\n    Mid tank: 20\\n    Bot tank: 30 L\\n    Average fuel: 20.0 L'"
            ]
          },
          "execution_count": 334,
          "metadata": {},
          "output_type": "execute_result"
        }
      ],
      "source": [
        "# Actualiza la función\n",
        "\n",
        "def report ( top, mid, bot ):\n",
        "    return f'''Top tank: { top } L\n",
        "    Mid tank: { mid }\n",
        "    Bot tank: { bot } L\n",
        "    Average fuel: { average( top, mid, bot )} L'''\n",
        "\n",
        "report ( 10, 20, 30 )"
      ]
    },
    {
      "cell_type": "markdown",
      "metadata": {},
      "source": [
        "> Recuerda: Lo importante es intentarlo, puedes auxiliarte de internet, libros, etc. El objetivo de una kata es la comprobación de la comprensión de la lección y su aplicación inmediata a la resolución de problemas. Go for it!"
      ]
    },
    {
      "cell_type": "markdown",
      "metadata": {},
      "source": [
        "## Ejercicio 2: Trabajo con argumentos de palabra clave"
      ]
    },
    {
      "cell_type": "markdown",
      "metadata": {},
      "source": [
        "### Ejercicio : Trabajar con argumentos de palabras clave en funciones\n",
        "En este ejercicio, construirás un informe de cohete que requiere varias piezas de información, como el tiempo hasta el destino, el combustible a la izquierda y el nombre del destino. Comienza por crear una función que creará un informe preciso de la misión:"
      ]
    },
    {
      "cell_type": "code",
      "execution_count": 335,
      "metadata": {},
      "outputs": [
        {
          "data": {
            "text/plain": [
              "'Total time: 60 hours\\n    Destiny:  Mars\\n    Total fuel Tank: 100 L\\n    '"
            ]
          },
          "execution_count": 335,
          "metadata": {},
          "output_type": "execute_result"
        }
      ],
      "source": [
        "# Función con un informe preciso de la misión. Considera hora de prelanzamiento, tiempo de vuelo, destino, tanque externo y tanque interno\n",
        "def report ( hour_launch, fly_time, destiny, ext_tank, int_tank ):\n",
        "    return f'''Total time: { hour_launch + fly_time } hours\n",
        "    Destiny:  { destiny }\n",
        "    Total fuel Tank: { ext_tank + int_tank } L\n",
        "    '''\n",
        "\n",
        "report ( 10, 50, \"Mars\", 50, 50 )"
      ]
    },
    {
      "cell_type": "markdown",
      "metadata": {},
      "source": [
        "La función es problemática porque no se puede adaptar para minutos adicionales o tanques adicionales de combustible. Hazlo más flexible permitiendo cualquier número de pasos basados en el tiempo y cualquier número de tanques. En lugar de usar `*args` y `**kwargs`, aprovecha el hecho de que puedes usar cualquier nombre que desees. Asegurate que la función sea más legible mediante el uso de nombres de variables que están asociados con las entradas, como `*minutes` y `**fuel_reservoirs`:"
      ]
    },
    {
      "cell_type": "code",
      "execution_count": 336,
      "metadata": {},
      "outputs": [
        {
          "data": {
            "text/plain": [
              "'Total time: 1000 hours\\n    Destiny:  Mars\\n    Total fuel Tank: 15000 L\\n    '"
            ]
          },
          "execution_count": 336,
          "metadata": {},
          "output_type": "execute_result"
        }
      ],
      "source": [
        "# Escribe tu nueva función de reporte considerando lo anterior\n",
        "def report ( destiny, *time,  **tanks ): # Primero van los argumentos y despues argumentos de palabra clave\n",
        "    return f'''Total time: { sum(time)  } hours\n",
        "    Destiny:  { destiny }\n",
        "    Total fuel Tank: { sum( tanks.values() ) } L\n",
        "    '''\n",
        "    \n",
        "\n",
        "report ( \"Mars\", 100, 500, 400, internal_fuel=5000, external_fuel=10000 )\n"
      ]
    },
    {
      "cell_type": "markdown",
      "metadata": {},
      "source": [
        "Debido a que el combustible que queda en los tanques es específico de cada tanque, actualiza la función para usar el nombre de cada tanque en el informe:"
      ]
    },
    {
      "cell_type": "code",
      "execution_count": 337,
      "metadata": {},
      "outputs": [
        {
          "data": {
            "text/plain": [
              "'Total time: 1000 hours\\n    Destiny:  Mars\\n    Total fuel Tank: 15000 L\\n    internal_fuel tank --> 5000 gallons left\\nexternal_fuel tank --> 10000 gallons left\\n'"
            ]
          },
          "execution_count": 337,
          "metadata": {},
          "output_type": "execute_result"
        }
      ],
      "source": [
        "# Escribe tu nueva función\n",
        "def report ( destiny, *time,  **tanks ): # Primero van los argumentos y despues argumentos de palabra clave\n",
        "    report = f'''Total time: { sum(time)  } hours\n",
        "    Destiny:  { destiny }\n",
        "    Total fuel Tank: { sum( tanks.values() ) } L\n",
        "    '''\n",
        "    for key, value in tanks.items():\n",
        "            report += f\"{key} tank --> {value} gallons left\\n\"\n",
        "    return report\n",
        "\n",
        "report ( \"Mars\", 100, 500, 400, internal_fuel=5000, external_fuel=10000 )\n"
      ]
    }
  ],
  "metadata": {
    "interpreter": {
      "hash": "205095b8b86ea82a021a8fc2ffba2b3bc9f8d0be25999901963b225939f75778"
    },
    "kernelspec": {
      "display_name": "Python 3.8.10 64-bit ('tmp': conda)",
      "name": "python3"
    },
    "language_info": {
      "codemirror_mode": {
        "name": "ipython",
        "version": 3
      },
      "file_extension": ".py",
      "mimetype": "text/x-python",
      "name": "python",
      "nbconvert_exporter": "python",
      "pygments_lexer": "ipython3",
      "version": "3.10.2"
    },
    "nteract": {
      "version": "nteract-front-end@1.0.0"
    },
    "orig_nbformat": 4
  },
  "nbformat": 4,
  "nbformat_minor": 2
}
